{
 "cells": [
  {
   "cell_type": "code",
   "execution_count": 1,
   "metadata": {
    "collapsed": true
   },
   "outputs": [],
   "source": [
    "# from pymongo import MongoClient\n",
    "import numpy as np\n",
    "import pandas as pd\n",
    "import matplotlib.pyplot as plt\n",
    "# from sklearn.model_selection import train_test_split\n",
    "# from sklearn.linear_model import Ridge, LogisticRegression\n",
    "# from sklearn.metrics import r2_score, roc_curve, auc, accuracy_score\n",
    "import datetime\n",
    "import time\n",
    "# from xgboost import XGBClassifier\n",
    "# from catboost import CatBoostClassifier, CatBoostRegressor\n",
    "%matplotlib inline"
   ]
  },
  {
   "cell_type": "code",
   "execution_count": 2,
   "metadata": {
    "collapsed": true
   },
   "outputs": [],
   "source": [
    "trade = pd.read_csv('trade.csv')"
   ]
  },
  {
   "cell_type": "code",
   "execution_count": 3,
   "metadata": {
    "scrolled": true
   },
   "outputs": [
    {
     "data": {
      "text/html": [
       "<div>\n",
       "<table border=\"1\" class=\"dataframe\">\n",
       "  <thead>\n",
       "    <tr style=\"text-align: right;\">\n",
       "      <th></th>\n",
       "      <th>_class</th>\n",
       "      <th>_id</th>\n",
       "      <th>price</th>\n",
       "      <th>quantity</th>\n",
       "      <th>side</th>\n",
       "      <th>symbol</th>\n",
       "      <th>timestamp</th>\n",
       "    </tr>\n",
       "  </thead>\n",
       "  <tbody>\n",
       "    <tr>\n",
       "      <th>0</th>\n",
       "      <td>be.sleepy.component.entity.Trade</td>\n",
       "      <td>178630112</td>\n",
       "      <td>0.111797</td>\n",
       "      <td>0.030</td>\n",
       "      <td>sell</td>\n",
       "      <td>ETHBTC</td>\n",
       "      <td>2018-02-01 23:06:19.924</td>\n",
       "    </tr>\n",
       "    <tr>\n",
       "      <th>1</th>\n",
       "      <td>be.sleepy.component.entity.Trade</td>\n",
       "      <td>178630052</td>\n",
       "      <td>0.111810</td>\n",
       "      <td>0.070</td>\n",
       "      <td>buy</td>\n",
       "      <td>ETHBTC</td>\n",
       "      <td>2018-02-01 23:06:17.149</td>\n",
       "    </tr>\n",
       "    <tr>\n",
       "      <th>2</th>\n",
       "      <td>be.sleepy.component.entity.Trade</td>\n",
       "      <td>178630046</td>\n",
       "      <td>0.111786</td>\n",
       "      <td>0.031</td>\n",
       "      <td>sell</td>\n",
       "      <td>ETHBTC</td>\n",
       "      <td>2018-02-01 23:06:16.583</td>\n",
       "    </tr>\n",
       "    <tr>\n",
       "      <th>3</th>\n",
       "      <td>be.sleepy.component.entity.Trade</td>\n",
       "      <td>178630045</td>\n",
       "      <td>0.111786</td>\n",
       "      <td>0.096</td>\n",
       "      <td>sell</td>\n",
       "      <td>ETHBTC</td>\n",
       "      <td>2018-02-01 23:06:16.583</td>\n",
       "    </tr>\n",
       "    <tr>\n",
       "      <th>4</th>\n",
       "      <td>be.sleepy.component.entity.Trade</td>\n",
       "      <td>178630043</td>\n",
       "      <td>0.111786</td>\n",
       "      <td>0.079</td>\n",
       "      <td>sell</td>\n",
       "      <td>ETHBTC</td>\n",
       "      <td>2018-02-01 23:06:16.583</td>\n",
       "    </tr>\n",
       "  </tbody>\n",
       "</table>\n",
       "</div>"
      ],
      "text/plain": [
       "                             _class        _id     price  quantity  side  \\\n",
       "0  be.sleepy.component.entity.Trade  178630112  0.111797     0.030  sell   \n",
       "1  be.sleepy.component.entity.Trade  178630052  0.111810     0.070   buy   \n",
       "2  be.sleepy.component.entity.Trade  178630046  0.111786     0.031  sell   \n",
       "3  be.sleepy.component.entity.Trade  178630045  0.111786     0.096  sell   \n",
       "4  be.sleepy.component.entity.Trade  178630043  0.111786     0.079  sell   \n",
       "\n",
       "   symbol                timestamp  \n",
       "0  ETHBTC  2018-02-01 23:06:19.924  \n",
       "1  ETHBTC  2018-02-01 23:06:17.149  \n",
       "2  ETHBTC  2018-02-01 23:06:16.583  \n",
       "3  ETHBTC  2018-02-01 23:06:16.583  \n",
       "4  ETHBTC  2018-02-01 23:06:16.583  "
      ]
     },
     "execution_count": 3,
     "metadata": {},
     "output_type": "execute_result"
    }
   ],
   "source": [
    "trade.head()"
   ]
  },
  {
   "cell_type": "code",
   "execution_count": 4,
   "metadata": {},
   "outputs": [
    {
     "data": {
      "text/plain": [
       "[<matplotlib.lines.Line2D at 0x7fb87980ffd0>]"
      ]
     },
     "execution_count": 4,
     "metadata": {},
     "output_type": "execute_result"
    },
    {
     "data": {
      "image/png": "[encoded data removed]",
      "text/plain": [
       "<matplotlib.figure.Figure at 0x7fb8b0555c88>"
      ]
     },
     "metadata": {},
     "output_type": "display_data"
    }
   ],
   "source": [
    "plt.plot(pd.to_datetime(trade['timestamp']), \n",
    "         trade['price'].astype(float))"
   ]
  },
  {
   "cell_type": "code",
   "execution_count": 5,
   "metadata": {
    "collapsed": true
   },
   "outputs": [],
   "source": [
    "df = pd.read_csv('dataset.csv', index_col=0)"
   ]
  },
  {
   "cell_type": "code",
   "execution_count": 6,
   "metadata": {},
   "outputs": [
    {
     "data": {
      "text/html": [
       "<div>\n",
       "<table border=\"1\" class=\"dataframe\">\n",
       "  <thead>\n",
       "    <tr style=\"text-align: right;\">\n",
       "      <th></th>\n",
       "      <th>price</th>\n",
       "      <th>ask</th>\n",
       "      <th>bid</th>\n",
       "      <th>high</th>\n",
       "      <th>last</th>\n",
       "      <th>low</th>\n",
       "      <th>open</th>\n",
       "      <th>volume</th>\n",
       "      <th>volumeQuote</th>\n",
       "    </tr>\n",
       "    <tr>\n",
       "      <th>timestamp</th>\n",
       "      <th></th>\n",
       "      <th></th>\n",
       "      <th></th>\n",
       "      <th></th>\n",
       "      <th></th>\n",
       "      <th></th>\n",
       "      <th></th>\n",
       "      <th></th>\n",
       "      <th></th>\n",
       "    </tr>\n",
       "  </thead>\n",
       "  <tbody>\n",
       "    <tr>\n",
       "      <th>2018-01-31 07:23:10</th>\n",
       "      <td>0.10783</td>\n",
       "      <td>NaN</td>\n",
       "      <td>NaN</td>\n",
       "      <td>NaN</td>\n",
       "      <td>NaN</td>\n",
       "      <td>NaN</td>\n",
       "      <td>NaN</td>\n",
       "      <td>NaN</td>\n",
       "      <td>NaN</td>\n",
       "    </tr>\n",
       "    <tr>\n",
       "      <th>2018-01-31 07:23:11</th>\n",
       "      <td>NaN</td>\n",
       "      <td>NaN</td>\n",
       "      <td>NaN</td>\n",
       "      <td>NaN</td>\n",
       "      <td>NaN</td>\n",
       "      <td>NaN</td>\n",
       "      <td>NaN</td>\n",
       "      <td>NaN</td>\n",
       "      <td>NaN</td>\n",
       "    </tr>\n",
       "    <tr>\n",
       "      <th>2018-01-31 07:23:12</th>\n",
       "      <td>NaN</td>\n",
       "      <td>NaN</td>\n",
       "      <td>NaN</td>\n",
       "      <td>NaN</td>\n",
       "      <td>NaN</td>\n",
       "      <td>NaN</td>\n",
       "      <td>NaN</td>\n",
       "      <td>NaN</td>\n",
       "      <td>NaN</td>\n",
       "    </tr>\n",
       "    <tr>\n",
       "      <th>2018-01-31 07:23:13</th>\n",
       "      <td>NaN</td>\n",
       "      <td>NaN</td>\n",
       "      <td>NaN</td>\n",
       "      <td>NaN</td>\n",
       "      <td>NaN</td>\n",
       "      <td>NaN</td>\n",
       "      <td>NaN</td>\n",
       "      <td>NaN</td>\n",
       "      <td>NaN</td>\n",
       "    </tr>\n",
       "    <tr>\n",
       "      <th>2018-01-31 07:23:14</th>\n",
       "      <td>NaN</td>\n",
       "      <td>NaN</td>\n",
       "      <td>NaN</td>\n",
       "      <td>NaN</td>\n",
       "      <td>NaN</td>\n",
       "      <td>NaN</td>\n",
       "      <td>NaN</td>\n",
       "      <td>NaN</td>\n",
       "      <td>NaN</td>\n",
       "    </tr>\n",
       "  </tbody>\n",
       "</table>\n",
       "</div>"
      ],
      "text/plain": [
       "                       price  ask  bid  high  last  low  open  volume  \\\n",
       "timestamp                                                               \n",
       "2018-01-31 07:23:10  0.10783  NaN  NaN   NaN   NaN  NaN   NaN     NaN   \n",
       "2018-01-31 07:23:11      NaN  NaN  NaN   NaN   NaN  NaN   NaN     NaN   \n",
       "2018-01-31 07:23:12      NaN  NaN  NaN   NaN   NaN  NaN   NaN     NaN   \n",
       "2018-01-31 07:23:13      NaN  NaN  NaN   NaN   NaN  NaN   NaN     NaN   \n",
       "2018-01-31 07:23:14      NaN  NaN  NaN   NaN   NaN  NaN   NaN     NaN   \n",
       "\n",
       "                     volumeQuote  \n",
       "timestamp                         \n",
       "2018-01-31 07:23:10          NaN  \n",
       "2018-01-31 07:23:11          NaN  \n",
       "2018-01-31 07:23:12          NaN  \n",
       "2018-01-31 07:23:13          NaN  \n",
       "2018-01-31 07:23:14          NaN  "
      ]
     },
     "execution_count": 6,
     "metadata": {},
     "output_type": "execute_result"
    }
   ],
   "source": [
    "df.head()"
   ]
  },
  {
   "cell_type": "markdown",
   "metadata": {},
   "source": [
    "Using simple moving average to round microchanges in price"
   ]
  },
  {
   "cell_type": "code",
   "execution_count": 7,
   "metadata": {
    "scrolled": true
   },
   "outputs": [
    {
     "data": {
      "text/html": [
       "<div>\n",
       "<table border=\"1\" class=\"dataframe\">\n",
       "  <thead>\n",
       "    <tr style=\"text-align: right;\">\n",
       "      <th></th>\n",
       "      <th>timestamp</th>\n",
       "      <th>price</th>\n",
       "      <th>ask</th>\n",
       "      <th>bid</th>\n",
       "      <th>high</th>\n",
       "      <th>last</th>\n",
       "      <th>low</th>\n",
       "      <th>open</th>\n",
       "      <th>volume</th>\n",
       "      <th>volumeQuote</th>\n",
       "      <th>SMA_30</th>\n",
       "      <th>SMA_60</th>\n",
       "    </tr>\n",
       "  </thead>\n",
       "  <tbody>\n",
       "    <tr>\n",
       "      <th>0</th>\n",
       "      <td>2018-01-31 07:23:10</td>\n",
       "      <td>0.10783</td>\n",
       "      <td>NaN</td>\n",
       "      <td>NaN</td>\n",
       "      <td>NaN</td>\n",
       "      <td>NaN</td>\n",
       "      <td>NaN</td>\n",
       "      <td>NaN</td>\n",
       "      <td>NaN</td>\n",
       "      <td>NaN</td>\n",
       "      <td>0.10783</td>\n",
       "      <td>0.10783</td>\n",
       "    </tr>\n",
       "    <tr>\n",
       "      <th>1</th>\n",
       "      <td>2018-01-31 07:23:11</td>\n",
       "      <td>NaN</td>\n",
       "      <td>NaN</td>\n",
       "      <td>NaN</td>\n",
       "      <td>NaN</td>\n",
       "      <td>NaN</td>\n",
       "      <td>NaN</td>\n",
       "      <td>NaN</td>\n",
       "      <td>NaN</td>\n",
       "      <td>NaN</td>\n",
       "      <td>0.10783</td>\n",
       "      <td>0.10783</td>\n",
       "    </tr>\n",
       "    <tr>\n",
       "      <th>2</th>\n",
       "      <td>2018-01-31 07:23:12</td>\n",
       "      <td>NaN</td>\n",
       "      <td>NaN</td>\n",
       "      <td>NaN</td>\n",
       "      <td>NaN</td>\n",
       "      <td>NaN</td>\n",
       "      <td>NaN</td>\n",
       "      <td>NaN</td>\n",
       "      <td>NaN</td>\n",
       "      <td>NaN</td>\n",
       "      <td>0.10783</td>\n",
       "      <td>0.10783</td>\n",
       "    </tr>\n",
       "    <tr>\n",
       "      <th>3</th>\n",
       "      <td>2018-01-31 07:23:13</td>\n",
       "      <td>NaN</td>\n",
       "      <td>NaN</td>\n",
       "      <td>NaN</td>\n",
       "      <td>NaN</td>\n",
       "      <td>NaN</td>\n",
       "      <td>NaN</td>\n",
       "      <td>NaN</td>\n",
       "      <td>NaN</td>\n",
       "      <td>NaN</td>\n",
       "      <td>0.10783</td>\n",
       "      <td>0.10783</td>\n",
       "    </tr>\n",
       "    <tr>\n",
       "      <th>4</th>\n",
       "      <td>2018-01-31 07:23:14</td>\n",
       "      <td>NaN</td>\n",
       "      <td>NaN</td>\n",
       "      <td>NaN</td>\n",
       "      <td>NaN</td>\n",
       "      <td>NaN</td>\n",
       "      <td>NaN</td>\n",
       "      <td>NaN</td>\n",
       "      <td>NaN</td>\n",
       "      <td>NaN</td>\n",
       "      <td>0.10783</td>\n",
       "      <td>0.10783</td>\n",
       "    </tr>\n",
       "  </tbody>\n",
       "</table>\n",
       "</div>"
      ],
      "text/plain": [
       "             timestamp    price  ask  bid  high  last  low  open  volume  \\\n",
       "0  2018-01-31 07:23:10  0.10783  NaN  NaN   NaN   NaN  NaN   NaN     NaN   \n",
       "1  2018-01-31 07:23:11      NaN  NaN  NaN   NaN   NaN  NaN   NaN     NaN   \n",
       "2  2018-01-31 07:23:12      NaN  NaN  NaN   NaN   NaN  NaN   NaN     NaN   \n",
       "3  2018-01-31 07:23:13      NaN  NaN  NaN   NaN   NaN  NaN   NaN     NaN   \n",
       "4  2018-01-31 07:23:14      NaN  NaN  NaN   NaN   NaN  NaN   NaN     NaN   \n",
       "\n",
       "   volumeQuote   SMA_30   SMA_60  \n",
       "0          NaN  0.10783  0.10783  \n",
       "1          NaN  0.10783  0.10783  \n",
       "2          NaN  0.10783  0.10783  \n",
       "3          NaN  0.10783  0.10783  \n",
       "4          NaN  0.10783  0.10783  "
      ]
     },
     "execution_count": 7,
     "metadata": {},
     "output_type": "execute_result"
    }
   ],
   "source": [
    "df.reset_index(inplace = True)\n",
    "df['SMA_30'] = df.rolling(60 * 60, min_periods = 1).mean()['price']\n",
    "df['SMA_60'] = df.rolling(3 * 60 * 60, min_periods = 1).mean()['price']\n",
    "df.head()"
   ]
  },
  {
   "cell_type": "code",
   "execution_count": 8,
   "metadata": {
    "scrolled": true
   },
   "outputs": [
    {
     "data": {
      "text/plain": [
       "<matplotlib.axes._subplots.AxesSubplot at 0x7fb8b00bf0b8>"
      ]
     },
     "execution_count": 8,
     "metadata": {},
     "output_type": "execute_result"
    },
    {
     "data": {
      "image/png": "[encoded data removed]",
      "text/plain": [
       "<matplotlib.figure.Figure at 0x7fb8797eee80>"
      ]
     },
     "metadata": {},
     "output_type": "display_data"
    }
   ],
   "source": [
    "df[['price', 'SMA_30', 'SMA_60']].plot()"
   ]
  },
  {
   "cell_type": "markdown",
   "metadata": {},
   "source": [
    "Running some tests"
   ]
  },
  {
   "cell_type": "code",
   "execution_count": 9,
   "metadata": {
    "collapsed": true,
    "scrolled": true
   },
   "outputs": [],
   "source": [
    "class Money:\n",
    "    btc = 1\n",
    "    eth = 0\n",
    "    def buy(self, course):\n",
    "        if(self.btc > 0):\n",
    "            self.eth = self.btc * 0.999 / course \n",
    "            self.btc = 0\n",
    "    def sell(self, course):\n",
    "        if(self.eth > 0):\n",
    "            self.btc = self.eth * 0.999 * course \n",
    "            self.eth = 0"
   ]
  },
  {
   "cell_type": "markdown",
   "metadata": {},
   "source": [
    "Basically we look at the difference between to SMAs.\n",
    "\n",
    "If we see that the price will go up, we buy. If we see that the price will go down, we sell."
   ]
  },
  {
   "cell_type": "code",
   "execution_count": 10,
   "metadata": {},
   "outputs": [
    {
     "name": "stdout",
     "output_type": "stream",
     "text": [
      "Buy 9.271519081324557 ETH for 1 BTH\n",
      "Sell 9.271519081324557 ETH for 1.0186480935241675 BTC\n",
      "Buy 9.274700790465301 ETH for 1.0186480935241675 BTH\n",
      "Sell 9.274700790465301 ETH for 1.0129797689580602 BTC\n",
      "Buy 9.231925897579753 ETH for 1.0129797689580602 BTH\n",
      "Sell 9.231925897579753 ETH for 1.0380418745947435 BTC\n",
      "Buy 9.176781436954318 ETH for 1.0380418745947435 BTH\n",
      "Sell 9.176781436954318 ETH for 1.0306496181872284 BTC\n",
      "Buy 9.158437050861844 ETH for 1.0306496181872284 BTH\n",
      "Sell 9.158437050861844 ETH for 1.0285692211875217 BTC\n",
      "Buy 9.010550494059709 ETH for 1.0285692211875217 BTH\n",
      "Sell 9.010550494059709 ETH for 1.0658093339380035 BTC\n",
      "Buy 9.068249904362126 ETH for 1.0658093339380035 BTH\n",
      "Sell 9.068249904362126 ETH for 1.0385128777312476 BTC\n",
      "Buy 9.302450212536124 ETH for 1.0385128777312476 BTH\n",
      "Final BTC: 0\n",
      "Final ETH: 9.302450212536124\n"
     ]
    }
   ],
   "source": [
    "my_money = Money()\n",
    "for index, row in df[2 * 60 * 60:].iterrows():\n",
    "    if((df.loc[index]['SMA_30'] / df.loc[index]['SMA_60'] > 1) &\n",
    "        (df.loc[index - 1]['SMA_30'] / df.loc[index - 1]['SMA_60'] < 1)):\n",
    "        btc = my_money.btc  \n",
    "        my_money.buy(df[index + 1:][df[index + 1:]['price'] > 0].iloc[0]['price'])\n",
    "        eth = my_money.eth\n",
    "        df.loc[index, 'react'] = df[index + 1:][df[index + 1:]['price'] > 0].iloc[0]['price']\n",
    "        print('Buy {} ETH for {} BTH'.format(eth, btc))\n",
    "    elif((df.loc[index]['SMA_30'] / df.loc[index]['SMA_60'] < 1 ) &\n",
    "        (df.loc[index - 1]['SMA_30'] / df.loc[index - 1]['SMA_60'] > 1)):\n",
    "        eth = my_money.eth\n",
    "        my_money.sell(df[index + 1:][df[index + 1:]['price'] > 0].iloc[0]['price'])\n",
    "        btc = my_money.btc\n",
    "        df.loc[index, 'react'] = df[index + 1:][df[index + 1:]['price'] > 0].iloc[0]['price']\n",
    "        print('Sell {} ETH for {} BTC'.format(eth, btc))\n",
    "        \n",
    "print('Final BTC: {}'.format(my_money.btc))\n",
    "print('Final ETH: {}'.format(my_money.eth))"
   ]
  },
  {
   "cell_type": "code",
   "execution_count": 11,
   "metadata": {},
   "outputs": [
    {
     "name": "stdout",
     "output_type": "stream",
     "text": [
      "In the end we got 1.0390668513054004\n"
     ]
    }
   ],
   "source": [
    "final_btc = my_money.eth *  df[df.price > 0].iloc[-1]['price'] * 0.999\n",
    "print('In the end we got {}'.format(final_btc))"
   ]
  }
 ],
 "metadata": {
  "kernelspec": {
   "display_name": "Python 3",
   "language": "python",
   "name": "python3"
  },
  "language_info": {
   "codemirror_mode": {
    "name": "ipython",
    "version": 3
   },
   "file_extension": ".py",
   "mimetype": "text/x-python",
   "name": "python",
   "nbconvert_exporter": "python",
   "pygments_lexer": "ipython3",
   "version": "3.6.3"
  }
 },
 "nbformat": 4,
 "nbformat_minor": 2
}
